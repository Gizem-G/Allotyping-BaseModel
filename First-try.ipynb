{
 "cells": [
  {
   "cell_type": "code",
   "execution_count": 2,
   "metadata": {
    "collapsed": true
   },
   "outputs": [],
   "source": [
    "import pandas as pd"
   ]
  },
  {
   "cell_type": "code",
   "execution_count": 6,
   "metadata": {},
   "outputs": [],
   "source": [
    "df=pd.read_csv(\"/Users/leon/Projects/AllotypicPeptides/Gizem/mhc_ligand_full.csv\")"
   ]
  },
  {
   "cell_type": "code",
   "execution_count": 7,
   "metadata": {},
   "outputs": [
    {
     "name": "stdout",
     "output_type": "stream",
     "text": [
      "Hello\n"
     ]
    }
   ],
   "source": [
    "print \"Hello\""
   ]
  },
  {
   "cell_type": "code",
   "execution_count": 8,
   "metadata": {},
   "outputs": [
    {
     "name": "stdout",
     "output_type": "stream",
     "text": [
      "['Reference', 'Reference.1', 'Reference.2', 'Reference.3', 'Reference.4', 'Reference.5', 'Reference.6', 'Reference.7', 'Reference.8', 'Epitope', 'Epitope.1', 'Epitope.2', 'Epitope.3', 'Epitope.4', 'Epitope.5', 'Epitope.6', 'Epitope.7', 'Epitope.8', 'Epitope.9', 'Epitope.10', 'Epitope.11', 'Epitope.12', 'Epitope.13', 'Epitope.14', 'Related Object', 'Related Object.1', 'Related Object.2', 'Related Object.3', 'Related Object.4', 'Related Object.5', 'Related Object.6', 'Related Object.7', 'Related Object.8', 'Related Object.9', 'Related Object.10', 'Related Object.11', 'Related Object.12', 'Related Object.13', 'Related Object.14', 'Host', 'Host.1', 'Host.2', 'Host.3', 'In vivo Process', 'In vivo Process.1', 'In vivo Process.2', 'In vivo Process.3', 'In vivo Process.4', 'In vivo Process.5', 'In vivo Process.6', 'In vivo Process.7', 'In vivo Process.8', 'In vivo Process.9', 'In vivo Process.10', 'In vivo Process.11', 'In vivo Process.12', 'In vivo Process.13', 'In vivo Process.14', 'In vivo Process.15', 'In vivo Process.16', 'In vivo Process.17', 'In vitro Process', 'In vitro Process.1', 'In vitro Process.2', 'In vitro Process.3', 'In vitro Process.4', 'In vitro Process.5', 'In vitro Process.6', 'In vitro Process.7', 'In vitro Process.8', 'In vitro Process.9', 'In vitro Process.10', 'In vitro Process.11', 'In vitro Process.12', 'In vitro Process.13', 'In vitro Process.14', 'Processed Antigen Comments', 'Assay', 'Assay.1', 'Assay.2', 'Assay.3', 'Assay.4', 'Assay.5', 'Assay.6', 'Assay.7', 'Assay.8', 'Assay.9', 'Assay.10', 'Antigen Processing Cells', 'Antigen Processing Cells.1', 'Antigen Processing Cells.2', 'Antigen Processing Cells.3', 'Antigen Processing Cells.4', 'MHC', 'MHC.1', 'MHC.2', 'MHC.3', 'Assay Comments']\n"
     ]
    }
   ],
   "source": [
    "print df.columns.tolist()"
   ]
  },
  {
   "cell_type": "code",
   "execution_count": 21,
   "metadata": {},
   "outputs": [
    {
     "name": "stdout",
     "output_type": "stream",
     "text": [
      "                         Epitope.2             MHC.3             MHC  \\\n0                      Description  MHC allele class     Allele Name   \n1                        KLEDLERDL                 I     HLA-A*02:01   \n2                        LITGRLQSL                 I          HLA-A2   \n3                         TRVAFAGL                 I           H2-Kb   \n4                         RNTDFFGL                 I           H2-Kb   \n5                        EVMPVSMAK                 I     HLA-A*03:01   \n6                        EVMPVSMAK                 I     HLA-A*11:01   \n7                        KTFPPTEPK                 I     HLA-A*03:01   \n8                        KTFPPTEPK                 I     HLA-A*11:01   \n9                        ATFSVPMEK                 I     HLA-A*03:01   \n10                       ATFSVPMEK                 I     HLA-A*11:01   \n11                       KVIQPRVEK                 I     HLA-A*03:01   \n12                       KVIQPRVEK                 I     HLA-A*11:01   \n13                       RLYYDSMSY                 I     HLA-A*03:01   \n14                       RLYYDSMSY                 I     HLA-A*11:01   \n15                       AVLQSGFRK                 I     HLA-A*03:01   \n16                       AVLQSGFRK                 I     HLA-A*11:01   \n17                       AVDPAKAYK                 I     HLA-A*03:01   \n18                       AVDPAKAYK                 I     HLA-A*11:01   \n19                       YIFFASFYY                 I     HLA-A*03:01   \n20                       YIFFASFYY                 I     HLA-A*11:01   \n21                       KCYGVSATK                 I     HLA-A*03:01   \n22                       KCYGVSATK                 I     HLA-A*11:01   \n23                       QLFKPLTKK                 I     HLA-A*03:01   \n24                       QLFKPLTKK                 I     HLA-A*11:01   \n25                       KLFAAETLK                 I     HLA-A*03:01   \n26                       KLFAAETLK                 I     HLA-A*11:01   \n27                       RVFNNYMPY                 I     HLA-A*03:01   \n28                       RVFNNYMPY                 I     HLA-A*11:01   \n29                       ALRANSAVK                 I     HLA-A*03:01   \n...                            ...               ...             ...   \n782018  EMPSEEGYQDYEPEA + PHOS(S4)                II  HLA-DQB1*02:01   \n782019  EMPSEEGYQDYEPEA + PHOS(S4)                II  HLA-DQB1*03:01   \n782020  EMPSEEGYQDYEPEA + PHOS(S4)                II  HLA-DQB1*03:02   \n782021  EMPSEEGYQDYEPEA + PHOS(S4)                II  HLA-DQB1*04:02   \n782022  EMPSEEGYQDYEPEA + PHOS(S4)                II  HLA-DQB1*05:01   \n782023  EMPSEEGYQDYEPEA + PHOS(S4)                II  HLA-DQB1*06:02   \n782024  EMPSEEGYQDYEPEA + PHOS(S4)                II  HLA-DRB1*01:01   \n782025  EMPSEEGYQDYEPEA + PHOS(S4)                II  HLA-DRB1*03:01   \n782026  EMPSEEGYQDYEPEA + PHOS(S4)                II  HLA-DRB1*04:01   \n782027  EMPSEEGYQDYEPEA + PHOS(S4)                II  HLA-DRB1*04:05   \n782028  EMPSEEGYQDYEPEA + PHOS(S4)                II  HLA-DRB1*07:01   \n782029  EMPSEEGYQDYEPEA + PHOS(S4)                II  HLA-DRB1*09:01   \n782030  EMPSEEGYQDYEPEA + PHOS(S4)                II  HLA-DRB1*11:01   \n782031  EMPSEEGYQDYEPEA + PHOS(S4)                II  HLA-DRB1*12:01   \n782032  EMPSEEGYQDYEPEA + PHOS(S4)                II  HLA-DRB1*13:02   \n782033  EMPSEEGYQDYEPEA + PHOS(S4)                II  HLA-DRB4*01:01   \n782034  EMPSEEGYQDYEPEA + PHOS(S4)                II  HLA-DRB1*15:01   \n782035  EMPSEEGYQDYEPEA + PHOS(S4)                II  HLA-DRB3*01:01   \n782036  EMPSEEGYQDYEPEA + PHOS(S4)                II  HLA-DRB3*02:02   \n782037  EMPSEEGYQDYEPEA + PHOS(S4)                II  HLA-DRB5*01:01   \n782038                    LLGDLFGV                 I     HLA-A*02:01   \n782039                   DLLGDLFGV                 I     HLA-A*02:01   \n782040                   TLHEYMLDL                 I     HLA-A*02:01   \n782041                   YMLDLQPET                 I     HLA-A*02:01   \n782042                  YMLDLQPETT                 I     HLA-A*02:01   \n782043                  RTLEDLLMGT                 I     HLA-A*02:01   \n782044                   TLEDLLMGT                 I     HLA-A*02:01   \n782045                  DLLMGTLGIV                 I     HLA-A*02:01   \n782046                   LLMGTLGIV                 I     HLA-A*02:01   \n782047                   MLDLQPETT                 I     HLA-A*02:01   \n\n                      Assay.5  \n0         Qualitative Measure  \n1                Positive-Low  \n2               Positive-High  \n3                    Positive  \n4                    Positive  \n5       Positive-Intermediate  \n6               Positive-High  \n7       Positive-Intermediate  \n8       Positive-Intermediate  \n9       Positive-Intermediate  \n10              Positive-High  \n11               Positive-Low  \n12      Positive-Intermediate  \n13      Positive-Intermediate  \n14      Positive-Intermediate  \n15      Positive-Intermediate  \n16      Positive-Intermediate  \n17               Positive-Low  \n18      Positive-Intermediate  \n19               Positive-Low  \n20      Positive-Intermediate  \n21               Positive-Low  \n22               Positive-Low  \n23      Positive-Intermediate  \n24      Positive-Intermediate  \n25      Positive-Intermediate  \n26      Positive-Intermediate  \n27      Positive-Intermediate  \n28              Positive-High  \n29      Positive-Intermediate  \n...                       ...  \n782018           Positive-Low  \n782019               Negative  \n782020               Negative  \n782021           Positive-Low  \n782022               Positive  \n782023               Negative  \n782024               Negative  \n782025               Negative  \n782026           Positive-Low  \n782027               Negative  \n782028               Negative  \n782029               Negative  \n782030               Negative  \n782031               Negative  \n782032               Negative  \n782033               Negative  \n782034           Positive-Low  \n782035               Negative  \n782036               Negative  \n782037               Negative  \n782038               Positive  \n782039               Positive  \n782040               Negative  \n782041               Positive  \n782042               Positive  \n782043               Positive  \n782044               Positive  \n782045               Positive  \n782046               Positive  \n782047               Negative  \n\n[782048 rows x 4 columns]\n"
     ]
    }
   ],
   "source": [
    "print df[[\"Epitope.2\",\"MHC.3\",\"MHC\",\"Assay.5\"]]"
   ]
  }
 ],
 "metadata": {
  "kernelspec": {
   "display_name": "Python 2",
   "language": "python",
   "name": "python2"
  },
  "language_info": {
   "codemirror_mode": {
    "name": "ipython",
    "version": 2.0
   },
   "file_extension": ".py",
   "mimetype": "text/x-python",
   "name": "python",
   "nbconvert_exporter": "python",
   "pygments_lexer": "ipython2",
   "version": "2.7.6"
  }
 },
 "nbformat": 4,
 "nbformat_minor": 0
}